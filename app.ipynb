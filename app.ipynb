{
 "cells": [
  {
   "cell_type": "markdown",
   "metadata": {
    "id": "662ba368"
   },
   "source": [
    "# Convolutional Neural Networks\n",
    "\n",
    "## Project: Write an Algorithm for Landmark Classification\n",
    "\n",
    "### A simple app\n",
    "\n",
    "In this notebook we build a very simple app that uses our exported model.\n",
    "\n",
    "> <img src=\"https://github.com/nathanbangwa243/udpj-landmark-classification/blob/main/static_images/icons/noun-info-2558213.png?raw=1\" alt=\"?\" style=\"width:25px\"/> Note how we are not importing anything from our source code (we do not use any module from the ``src`` directory). This is because the exported model, differently from the model weights, is a standalone serialization of our model and therefore it does not need anything else. You can ship that file to anybody, and as long as they can import ``torch``, they will be able to use your model. This is very important for releasing pytorch models to production.\n",
    "\n",
    "### Test your app\n",
    "Go to a search engine for images (like Google Images) and search for images of some of the landmarks, like the Eiffel Tower, the Golden Gate Bridge, Machu Picchu and so on. Save a few examples locally, then upload them to your app to see how your model behaves!\n",
    "\n",
    "The app will show the top 5 classes that the model think are most relevant for the picture you have uploaded"
   ]
  },
  {
   "cell_type": "markdown",
   "metadata": {
    "id": "w4QQItS7jaB9"
   },
   "source": [
    "### TRAINING PLATFORM"
   ]
  },
  {
   "cell_type": "code",
   "execution_count": 1,
   "metadata": {
    "executionInfo": {
     "elapsed": 8,
     "status": "ok",
     "timestamp": 1723290213565,
     "user": {
      "displayName": "Nathan Bangwa",
      "userId": "11747781475428991779"
     },
     "user_tz": -120
    },
    "id": "_gF8HTe0jeH-"
   },
   "outputs": [],
   "source": [
    "import shutil\n",
    "import os\n",
    "\n",
    "TRAINING_PLATFORM = \"GOOGLE\""
   ]
  },
  {
   "cell_type": "markdown",
   "metadata": {
    "id": "80z-AvJojiEX"
   },
   "source": [
    "### GOOGLE SETUP"
   ]
  },
  {
   "cell_type": "code",
   "execution_count": 2,
   "metadata": {
    "colab": {
     "base_uri": "https://localhost:8080/"
    },
    "executionInfo": {
     "elapsed": 46513,
     "status": "ok",
     "timestamp": 1723290260072,
     "user": {
      "displayName": "Nathan Bangwa",
      "userId": "11747781475428991779"
     },
     "user_tz": -120
    },
    "id": "ZYdMPxIMeVt0",
    "outputId": "ada20eee-53a1-49e9-8572-af9686222ce2"
   },
   "outputs": [
    {
     "name": "stdout",
     "output_type": "stream",
     "text": [
      "Mounted at /content/drive/\n"
     ]
    }
   ],
   "source": [
    "if TRAINING_PLATFORM == \"GOOGLE\":\n",
    "    from google.colab import drive\n",
    "    drive.mount('/content/drive/')\n",
    "\n",
    "    os.chdir(\"/content/drive/MyDrive/learning/udacity/ml-fundamentals/udpj-landmark-classification\")"
   ]
  },
  {
   "cell_type": "markdown",
   "metadata": {
    "id": "oxaYbrnfjqSa"
   },
   "source": [
    "### KAGGLE SETUP\n",
    "\n",
    "Remember to turn ON internet for download purpose : `Settings Tab > Turn ON internet`"
   ]
  },
  {
   "cell_type": "code",
   "execution_count": 3,
   "metadata": {
    "executionInfo": {
     "elapsed": 10,
     "status": "ok",
     "timestamp": 1723290260072,
     "user": {
      "displayName": "Nathan Bangwa",
      "userId": "11747781475428991779"
     },
     "user_tz": -120
    },
    "id": "7mAqFk63jrZB"
   },
   "outputs": [],
   "source": [
    "if TRAINING_PLATFORM == \"KAGGLE\":\n",
    "\n",
    "    # Répertoires source et destination\n",
    "    source_dir = '/kaggle/input/udpj-starter-code/udpj-landmark-classification/'\n",
    "    destination_dir = '/kaggle/working/'\n",
    "\n",
    "    # Copier tous les fichiers et dossiers de la source vers la destination\n",
    "    shutil.copytree(source_dir, destination_dir, dirs_exist_ok=True)"
   ]
  },
  {
   "cell_type": "markdown",
   "metadata": {
    "id": "0dl3C5rajuRB"
   },
   "source": [
    "### COMMON SETUP"
   ]
  },
  {
   "cell_type": "code",
   "execution_count": 4,
   "metadata": {
    "colab": {
     "base_uri": "https://localhost:8080/"
    },
    "executionInfo": {
     "elapsed": 817,
     "status": "ok",
     "timestamp": 1723290260881,
     "user": {
      "displayName": "Nathan Bangwa",
      "userId": "11747781475428991779"
     },
     "user_tz": -120
    },
    "id": "E2C32oNgeZ-1",
    "outputId": "3bfa81e3-e7b8-48e3-9f64-14413bdc631f"
   },
   "outputs": [
    {
     "name": "stdout",
     "output_type": "stream",
     "text": [
      "/content/drive/MyDrive/learning/udacity/ml-fundamentals/udpj-landmark-classification\n",
      "app.ipynb\t\t landmark_images  requirements.txt\t    transfer_learning.ipynb\n",
      "checkpoints\t\t __MACOSX\t  reverse_requirements.txt\n",
      "cnn_from_scratch.ipynb\t mean_and_std.pt  src\n",
      "install_requirements.sh  README.md\t  static_images\n"
     ]
    }
   ],
   "source": [
    "!pwd\n",
    "!ls"
   ]
  },
  {
   "cell_type": "code",
   "execution_count": 4,
   "metadata": {
    "executionInfo": {
     "elapsed": 10,
     "status": "ok",
     "timestamp": 1723290260881,
     "user": {
      "displayName": "Nathan Bangwa",
      "userId": "11747781475428991779"
     },
     "user_tz": -120
    },
    "id": "hVXOHh9xMt_l"
   },
   "outputs": [],
   "source": []
  },
  {
   "cell_type": "code",
   "execution_count": 8,
   "metadata": {
    "colab": {
     "base_uri": "https://localhost:8080/",
     "height": 511,
     "referenced_widgets": [
      "1ea425640ce844aeba818a99eb04c710",
      "677dc356bece4f8b857c8ecdfd41b4e0",
      "6f91ee8686554fbf8d21830707f46de6",
      "fde5341cba484f28974c1f0550c66322",
      "2bfe7858c85d49b491e35a5dd585fca2",
      "97fa0f61004c42cbbd30a852decb7d09",
      "3c3deb764dea4608957acc54d40a45f4",
      "760045b0571c4fc6a340877d4b4d2944",
      "56c90233a10d452f8f7a92a75ac12cf3",
      "0483478bb11b49b8bc23481e3c0e6674",
      "77bb9b0d2b50480d9762fdb75339cac0",
      "1b90b81aa239431cbc1894044408fd1d",
      "5384dca7179c4b67ab456e3a15a1f318",
      "6501316ba2c949ee92f69e522db0f2be",
      "10149490cbe34bba914f1d541bbb82c9",
      "61cd10b80a5d4b1cb5c31ddd1615f844",
      "eb5a1cac1fa34f5b84a864c0d1222d8c",
      "b396f352f422405e97cc9ae019b8dad8",
      "cbcd82ad00e94989b5397841052ddc83",
      "41453d56bef54f3a8a51b536fed23e0f",
      "f04575c145054b60b22b5376dbfe5319",
      "af4271b2dedd42eda777d86cb5b22316",
      "f0be1320dde649a5b84ed2c037c91d79",
      "dc83708ef20d47b7979212baac066543",
      "9016dea4a36a40ddaf2a2b5923695810",
      "16af21c874254c4c94fc83f1d6234c4c",
      "bea589e5c84d4797a19c3877c061c326",
      "904b6e37b2d948a19aa0165c6ddc698f"
     ]
    },
    "executionInfo": {
     "elapsed": 548,
     "status": "ok",
     "timestamp": 1723291653551,
     "user": {
      "displayName": "Nathan Bangwa",
      "userId": "11747781475428991779"
     },
     "user_tz": -120
    },
    "id": "bda5a833",
    "outputId": "040f5f62-267d-4650-c88d-c558bd0642c5"
   },
   "outputs": [
    {
     "data": {
      "application/vnd.jupyter.widget-view+json": {
       "model_id": "1ea425640ce844aeba818a99eb04c710",
       "version_major": 2,
       "version_minor": 0
      },
      "text/plain": [
       "VBox(children=(Label(value='Please upload a picture of a landmark'), FileUpload(value={}, description='Upload'…"
      ]
     },
     "metadata": {},
     "output_type": "display_data"
    },
    {
     "name": "stderr",
     "output_type": "stream",
     "text": [
      "code/__torch__/torchvision/transforms/functional.py:188: UserWarning: The default value of the antialias parameter of all the resizing transforms (Resize(), RandomResizedCrop(), etc.) will change from None to True in v0.17, in order to be consistent across the PIL and Tensor backends. To suppress this warning, directly pass antialias=True (recommended, future default), antialias=None (current default, which means False for Tensors and True for PIL), or antialias=False (only works on Tensors - PIL will still use antialiasing). This also applies if you are using the inference transforms from the models weights: update the call to weights.transforms(antialias=True).\n"
     ]
    }
   ],
   "source": [
    "from ipywidgets import VBox, Button, FileUpload, Output, Label\n",
    "from PIL import Image\n",
    "from IPython.display import display\n",
    "import io\n",
    "import numpy as np\n",
    "import torchvision\n",
    "import torchvision.transforms as T\n",
    "import torch\n",
    "\n",
    "# Decide which model you want to use among the ones exported\n",
    "learn_inf = torch.jit.load(\"checkpoints/transfer_exported.pt\") # (YOUR CODE HERE)\n",
    "\n",
    "def on_click_classify(change):\n",
    "\n",
    "    # Load image that has been uploaded\n",
    "    fn = io.BytesIO(btn_upload.data[-1])\n",
    "\n",
    "    img = Image.open(fn)\n",
    "    img.load()\n",
    "\n",
    "    # Let's clear the previous output (if any)\n",
    "    out_pl.clear_output()\n",
    "\n",
    "    # Display the image\n",
    "    with out_pl:\n",
    "\n",
    "        ratio = img.size[0] / img.size[1]\n",
    "        c = img.copy()\n",
    "        c.thumbnail([ratio * 200, 200])\n",
    "        display(c)\n",
    "\n",
    "    # Transform to tensor\n",
    "    timg = T.ToTensor()(img).unsqueeze_(0)\n",
    "\n",
    "    # Calling the model\n",
    "    softmax = learn_inf(timg).data.cpu().numpy().squeeze()\n",
    "\n",
    "    # Get the indexes of the classes ordered by softmax\n",
    "    # (larger first)\n",
    "    idxs = np.argsort(softmax)[::-1]\n",
    "\n",
    "    # Loop over the classes with the largest softmax\n",
    "    for i in range(5):\n",
    "        # Get softmax value\n",
    "        p = softmax[idxs[i]]\n",
    "\n",
    "        # Get class name\n",
    "        landmark_name = learn_inf.class_names[idxs[i]]\n",
    "\n",
    "        labels[i].value = f\"{landmark_name} (prob: {p:.2f})\"\n",
    "\n",
    "\n",
    "# Putting back btn_upload to a widget for next cell\n",
    "btn_upload = FileUpload()\n",
    "\n",
    "btn_run = Button(description=\"Classify\")\n",
    "btn_run.on_click(on_click_classify)\n",
    "\n",
    "labels = []\n",
    "for _ in range(5):\n",
    "    labels.append(Label())\n",
    "\n",
    "out_pl = Output()\n",
    "out_pl.clear_output()\n",
    "\n",
    "wgs = [Label(\"Please upload a picture of a landmark\"), btn_upload, btn_run, out_pl]\n",
    "wgs.extend(labels)\n",
    "\n",
    "VBox(wgs)"
   ]
  },
  {
   "cell_type": "markdown",
   "metadata": {},
   "source": [
    "## Note\n",
    "\n",
    "I was encountering a bug every time I tried to generate the zip file to upload, so I exported this notebook from Google Colab so I could generate the zip from my Udacity workspace.\n",
    "\n",
    "But, the visual result of the VBox Widget didn't export correctly, so I made a screenshot. "
   ]
  },
  {
   "cell_type": "markdown",
   "metadata": {},
   "source": [
    "![Google Colab Capture](static_images/app-output.PNG)"
   ]
  },
  {
   "cell_type": "markdown",
   "metadata": {
    "id": "267f9867"
   },
   "source": [
    "## (optional) Standalone app or web app\n",
    "\n",
    "You can run this notebook as a standalone app on your computer by following these steps:\n",
    "\n",
    "1. Download this notebook in a directory on your machine\n",
    "2. Download the model export (for example, ``checkpoints/transfer_exported.pt``) in a subdirectory called ``checkpoints`` within the directory where you save the app.ipynb notebook\n",
    "3. Install voila if you don't have it already (``pip install voila``)\n",
    "4. Run your app: ``voila app.ipynb --show_tracebacks=True``\n",
    "5. Customize your notebook to make your app prettier and rerun voila\n",
    "\n",
    "You can also deploy this app as a website using Binder: https://voila.readthedocs.io/en/stable/deploy.html#deployment-on-binder"
   ]
  },
  {
   "cell_type": "markdown",
   "metadata": {
    "id": "3f87207e"
   },
   "source": [
    "# Create your submission archive\n",
    "\n",
    "Now that you are done with your project, please run the following cell. It will generate a file containing all the code you have written, as well as the notebooks. Please submit that file to complete your project"
   ]
  },
  {
   "cell_type": "code",
   "execution_count": null,
   "metadata": {
    "id": "5cbba984"
   },
   "outputs": [],
   "source": [
    "!python src/create_submit_pkg.py"
   ]
  },
  {
   "cell_type": "code",
   "execution_count": null,
   "metadata": {
    "id": "5948d9a3"
   },
   "outputs": [],
   "source": []
  }
 ],
 "metadata": {
  "colab": {
   "provenance": [
    {
     "file_id": "https://github.com/nathanbangwa243/udpj-landmark-classification/blob/main/app.ipynb",
     "timestamp": 1722977519722
    }
   ]
  },
  "kernelspec": {
   "display_name": "Python 3",
   "language": "python",
   "name": "python3"
  },
  "language_info": {
   "codemirror_mode": {
    "name": "ipython",
    "version": 3
   },
   "file_extension": ".py",
   "mimetype": "text/x-python",
   "name": "python",
   "nbconvert_exporter": "python",
   "pygments_lexer": "ipython3",
   "version": "3.7.6"
  },
  "widgets": {
   "application/vnd.jupyter.widget-state+json": {
    "0483478bb11b49b8bc23481e3c0e6674": {
     "model_module": "@jupyter-widgets/controls",
     "model_module_version": "1.5.0",
     "model_name": "LabelModel",
     "state": {
      "_dom_classes": [],
      "_model_module": "@jupyter-widgets/controls",
      "_model_module_version": "1.5.0",
      "_model_name": "LabelModel",
      "_view_count": null,
      "_view_module": "@jupyter-widgets/controls",
      "_view_module_version": "1.5.0",
      "_view_name": "LabelView",
      "description": "",
      "description_tooltip": null,
      "layout": "IPY_MODEL_16af21c874254c4c94fc83f1d6234c4c",
      "placeholder": "​",
      "style": "IPY_MODEL_bea589e5c84d4797a19c3877c061c326",
      "value": "40.Stockholm_City_Hall (prob: 0.00)"
     }
    },
    "10149490cbe34bba914f1d541bbb82c9": {
     "model_module": "@jupyter-widgets/controls",
     "model_module_version": "1.5.0",
     "model_name": "ButtonStyleModel",
     "state": {
      "_model_module": "@jupyter-widgets/controls",
      "_model_module_version": "1.5.0",
      "_model_name": "ButtonStyleModel",
      "_view_count": null,
      "_view_module": "@jupyter-widgets/base",
      "_view_module_version": "1.2.0",
      "_view_name": "StyleView",
      "button_color": null,
      "font_weight": ""
     }
    },
    "16af21c874254c4c94fc83f1d6234c4c": {
     "model_module": "@jupyter-widgets/base",
     "model_module_version": "1.2.0",
     "model_name": "LayoutModel",
     "state": {
      "_model_module": "@jupyter-widgets/base",
      "_model_module_version": "1.2.0",
      "_model_name": "LayoutModel",
      "_view_count": null,
      "_view_module": "@jupyter-widgets/base",
      "_view_module_version": "1.2.0",
      "_view_name": "LayoutView",
      "align_content": null,
      "align_items": null,
      "align_self": null,
      "border": null,
      "bottom": null,
      "display": null,
      "flex": null,
      "flex_flow": null,
      "grid_area": null,
      "grid_auto_columns": null,
      "grid_auto_flow": null,
      "grid_auto_rows": null,
      "grid_column": null,
      "grid_gap": null,
      "grid_row": null,
      "grid_template_areas": null,
      "grid_template_columns": null,
      "grid_template_rows": null,
      "height": null,
      "justify_content": null,
      "justify_items": null,
      "left": null,
      "margin": null,
      "max_height": null,
      "max_width": null,
      "min_height": null,
      "min_width": null,
      "object_fit": null,
      "object_position": null,
      "order": null,
      "overflow": null,
      "overflow_x": null,
      "overflow_y": null,
      "padding": null,
      "right": null,
      "top": null,
      "visibility": null,
      "width": null
     }
    },
    "1b90b81aa239431cbc1894044408fd1d": {
     "model_module": "@jupyter-widgets/base",
     "model_module_version": "1.2.0",
     "model_name": "LayoutModel",
     "state": {
      "_model_module": "@jupyter-widgets/base",
      "_model_module_version": "1.2.0",
      "_model_name": "LayoutModel",
      "_view_count": null,
      "_view_module": "@jupyter-widgets/base",
      "_view_module_version": "1.2.0",
      "_view_name": "LayoutView",
      "align_content": null,
      "align_items": null,
      "align_self": null,
      "border": null,
      "bottom": null,
      "display": null,
      "flex": null,
      "flex_flow": null,
      "grid_area": null,
      "grid_auto_columns": null,
      "grid_auto_flow": null,
      "grid_auto_rows": null,
      "grid_column": null,
      "grid_gap": null,
      "grid_row": null,
      "grid_template_areas": null,
      "grid_template_columns": null,
      "grid_template_rows": null,
      "height": null,
      "justify_content": null,
      "justify_items": null,
      "left": null,
      "margin": null,
      "max_height": null,
      "max_width": null,
      "min_height": null,
      "min_width": null,
      "object_fit": null,
      "object_position": null,
      "order": null,
      "overflow": null,
      "overflow_x": null,
      "overflow_y": null,
      "padding": null,
      "right": null,
      "top": null,
      "visibility": null,
      "width": null
     }
    },
    "1ea425640ce844aeba818a99eb04c710": {
     "model_module": "@jupyter-widgets/controls",
     "model_module_version": "1.5.0",
     "model_name": "VBoxModel",
     "state": {
      "_dom_classes": [],
      "_model_module": "@jupyter-widgets/controls",
      "_model_module_version": "1.5.0",
      "_model_name": "VBoxModel",
      "_view_count": null,
      "_view_module": "@jupyter-widgets/controls",
      "_view_module_version": "1.5.0",
      "_view_name": "VBoxView",
      "box_style": "",
      "children": [
       "IPY_MODEL_677dc356bece4f8b857c8ecdfd41b4e0",
       "IPY_MODEL_6f91ee8686554fbf8d21830707f46de6",
       "IPY_MODEL_fde5341cba484f28974c1f0550c66322",
       "IPY_MODEL_2bfe7858c85d49b491e35a5dd585fca2",
       "IPY_MODEL_97fa0f61004c42cbbd30a852decb7d09",
       "IPY_MODEL_3c3deb764dea4608957acc54d40a45f4",
       "IPY_MODEL_760045b0571c4fc6a340877d4b4d2944",
       "IPY_MODEL_56c90233a10d452f8f7a92a75ac12cf3",
       "IPY_MODEL_0483478bb11b49b8bc23481e3c0e6674"
      ],
      "layout": "IPY_MODEL_77bb9b0d2b50480d9762fdb75339cac0"
     }
    },
    "2bfe7858c85d49b491e35a5dd585fca2": {
     "model_module": "@jupyter-widgets/output",
     "model_module_version": "1.0.0",
     "model_name": "OutputModel",
     "state": {
      "_dom_classes": [],
      "_model_module": "@jupyter-widgets/output",
      "_model_module_version": "1.0.0",
      "_model_name": "OutputModel",
      "_view_count": null,
      "_view_module": "@jupyter-widgets/output",
      "_view_module_version": "1.0.0",
      "_view_name": "OutputView",
      "layout": "IPY_MODEL_904b6e37b2d948a19aa0165c6ddc698f",
      "msg_id": "",
      "outputs": [
       {
        "data": {
         "image/png": "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\n",
         "text/plain": "<PIL.Image.Image image mode=RGB size=136x200>"
        },
        "metadata": {},
        "output_type": "display_data"
       }
      ]
     }
    },
    "3c3deb764dea4608957acc54d40a45f4": {
     "model_module": "@jupyter-widgets/controls",
     "model_module_version": "1.5.0",
     "model_name": "LabelModel",
     "state": {
      "_dom_classes": [],
      "_model_module": "@jupyter-widgets/controls",
      "_model_module_version": "1.5.0",
      "_model_name": "LabelModel",
      "_view_count": null,
      "_view_module": "@jupyter-widgets/controls",
      "_view_module_version": "1.5.0",
      "_view_name": "LabelView",
      "description": "",
      "description_tooltip": null,
      "layout": "IPY_MODEL_41453d56bef54f3a8a51b536fed23e0f",
      "placeholder": "​",
      "style": "IPY_MODEL_f04575c145054b60b22b5376dbfe5319",
      "value": "19.Vienna_City_Hall (prob: 0.36)"
     }
    },
    "41453d56bef54f3a8a51b536fed23e0f": {
     "model_module": "@jupyter-widgets/base",
     "model_module_version": "1.2.0",
     "model_name": "LayoutModel",
     "state": {
      "_model_module": "@jupyter-widgets/base",
      "_model_module_version": "1.2.0",
      "_model_name": "LayoutModel",
      "_view_count": null,
      "_view_module": "@jupyter-widgets/base",
      "_view_module_version": "1.2.0",
      "_view_name": "LayoutView",
      "align_content": null,
      "align_items": null,
      "align_self": null,
      "border": null,
      "bottom": null,
      "display": null,
      "flex": null,
      "flex_flow": null,
      "grid_area": null,
      "grid_auto_columns": null,
      "grid_auto_flow": null,
      "grid_auto_rows": null,
      "grid_column": null,
      "grid_gap": null,
      "grid_row": null,
      "grid_template_areas": null,
      "grid_template_columns": null,
      "grid_template_rows": null,
      "height": null,
      "justify_content": null,
      "justify_items": null,
      "left": null,
      "margin": null,
      "max_height": null,
      "max_width": null,
      "min_height": null,
      "min_width": null,
      "object_fit": null,
      "object_position": null,
      "order": null,
      "overflow": null,
      "overflow_x": null,
      "overflow_y": null,
      "padding": null,
      "right": null,
      "top": null,
      "visibility": null,
      "width": null
     }
    },
    "5384dca7179c4b67ab456e3a15a1f318": {
     "model_module": "@jupyter-widgets/controls",
     "model_module_version": "1.5.0",
     "model_name": "DescriptionStyleModel",
     "state": {
      "_model_module": "@jupyter-widgets/controls",
      "_model_module_version": "1.5.0",
      "_model_name": "DescriptionStyleModel",
      "_view_count": null,
      "_view_module": "@jupyter-widgets/base",
      "_view_module_version": "1.2.0",
      "_view_name": "StyleView",
      "description_width": ""
     }
    },
    "56c90233a10d452f8f7a92a75ac12cf3": {
     "model_module": "@jupyter-widgets/controls",
     "model_module_version": "1.5.0",
     "model_name": "LabelModel",
     "state": {
      "_dom_classes": [],
      "_model_module": "@jupyter-widgets/controls",
      "_model_module_version": "1.5.0",
      "_model_name": "LabelModel",
      "_view_count": null,
      "_view_module": "@jupyter-widgets/controls",
      "_view_module_version": "1.5.0",
      "_view_name": "LabelView",
      "description": "",
      "description_tooltip": null,
      "layout": "IPY_MODEL_dc83708ef20d47b7979212baac066543",
      "placeholder": "​",
      "style": "IPY_MODEL_9016dea4a36a40ddaf2a2b5923695810",
      "value": "16.Eiffel_Tower (prob: 0.00)"
     }
    },
    "61cd10b80a5d4b1cb5c31ddd1615f844": {
     "model_module": "@jupyter-widgets/base",
     "model_module_version": "1.2.0",
     "model_name": "LayoutModel",
     "state": {
      "_model_module": "@jupyter-widgets/base",
      "_model_module_version": "1.2.0",
      "_model_name": "LayoutModel",
      "_view_count": null,
      "_view_module": "@jupyter-widgets/base",
      "_view_module_version": "1.2.0",
      "_view_name": "LayoutView",
      "align_content": null,
      "align_items": null,
      "align_self": null,
      "border": null,
      "bottom": null,
      "display": null,
      "flex": null,
      "flex_flow": null,
      "grid_area": null,
      "grid_auto_columns": null,
      "grid_auto_flow": null,
      "grid_auto_rows": null,
      "grid_column": null,
      "grid_gap": null,
      "grid_row": null,
      "grid_template_areas": null,
      "grid_template_columns": null,
      "grid_template_rows": null,
      "height": null,
      "justify_content": null,
      "justify_items": null,
      "left": null,
      "margin": null,
      "max_height": null,
      "max_width": null,
      "min_height": null,
      "min_width": null,
      "object_fit": null,
      "object_position": null,
      "order": null,
      "overflow": null,
      "overflow_x": null,
      "overflow_y": null,
      "padding": null,
      "right": null,
      "top": null,
      "visibility": null,
      "width": null
     }
    },
    "6501316ba2c949ee92f69e522db0f2be": {
     "model_module": "@jupyter-widgets/base",
     "model_module_version": "1.2.0",
     "model_name": "LayoutModel",
     "state": {
      "_model_module": "@jupyter-widgets/base",
      "_model_module_version": "1.2.0",
      "_model_name": "LayoutModel",
      "_view_count": null,
      "_view_module": "@jupyter-widgets/base",
      "_view_module_version": "1.2.0",
      "_view_name": "LayoutView",
      "align_content": null,
      "align_items": null,
      "align_self": null,
      "border": null,
      "bottom": null,
      "display": null,
      "flex": null,
      "flex_flow": null,
      "grid_area": null,
      "grid_auto_columns": null,
      "grid_auto_flow": null,
      "grid_auto_rows": null,
      "grid_column": null,
      "grid_gap": null,
      "grid_row": null,
      "grid_template_areas": null,
      "grid_template_columns": null,
      "grid_template_rows": null,
      "height": null,
      "justify_content": null,
      "justify_items": null,
      "left": null,
      "margin": null,
      "max_height": null,
      "max_width": null,
      "min_height": null,
      "min_width": null,
      "object_fit": null,
      "object_position": null,
      "order": null,
      "overflow": null,
      "overflow_x": null,
      "overflow_y": null,
      "padding": null,
      "right": null,
      "top": null,
      "visibility": null,
      "width": null
     }
    },
    "677dc356bece4f8b857c8ecdfd41b4e0": {
     "model_module": "@jupyter-widgets/controls",
     "model_module_version": "1.5.0",
     "model_name": "LabelModel",
     "state": {
      "_dom_classes": [],
      "_model_module": "@jupyter-widgets/controls",
      "_model_module_version": "1.5.0",
      "_model_name": "LabelModel",
      "_view_count": null,
      "_view_module": "@jupyter-widgets/controls",
      "_view_module_version": "1.5.0",
      "_view_name": "LabelView",
      "description": "",
      "description_tooltip": null,
      "layout": "IPY_MODEL_1b90b81aa239431cbc1894044408fd1d",
      "placeholder": "​",
      "style": "IPY_MODEL_5384dca7179c4b67ab456e3a15a1f318",
      "value": "Please upload a picture of a landmark"
     }
    },
    "6f91ee8686554fbf8d21830707f46de6": {
     "model_module": "@jupyter-widgets/controls",
     "model_module_version": "1.5.0",
     "model_name": "FileUploadModel",
     "state": {
      "_counter": 1,
      "_dom_classes": [],
      "_model_module": "@jupyter-widgets/controls",
      "_model_module_version": "1.5.0",
      "_model_name": "FileUploadModel",
      "_view_count": null,
      "_view_module": "@jupyter-widgets/controls",
      "_view_module_version": "1.5.0",
      "_view_name": "FileUploadView",
      "accept": "",
      "button_style": "",
      "data": [
       null
      ],
      "description": "Upload",
      "description_tooltip": null,
      "disabled": false,
      "error": "",
      "icon": "upload",
      "layout": "IPY_MODEL_6501316ba2c949ee92f69e522db0f2be",
      "metadata": [
       {
        "lastModified": 1723291632394,
        "name": "Terminal_Tower.webp",
        "size": 72516,
        "type": "image/webp"
       }
      ],
      "multiple": false,
      "style": "IPY_MODEL_10149490cbe34bba914f1d541bbb82c9"
     }
    },
    "760045b0571c4fc6a340877d4b4d2944": {
     "model_module": "@jupyter-widgets/controls",
     "model_module_version": "1.5.0",
     "model_name": "LabelModel",
     "state": {
      "_dom_classes": [],
      "_model_module": "@jupyter-widgets/controls",
      "_model_module_version": "1.5.0",
      "_model_name": "LabelModel",
      "_view_count": null,
      "_view_module": "@jupyter-widgets/controls",
      "_view_module_version": "1.5.0",
      "_view_name": "LabelView",
      "description": "",
      "description_tooltip": null,
      "layout": "IPY_MODEL_af4271b2dedd42eda777d86cb5b22316",
      "placeholder": "​",
      "style": "IPY_MODEL_f0be1320dde649a5b84ed2c037c91d79",
      "value": "48.Whitby_Abbey (prob: 0.00)"
     }
    },
    "77bb9b0d2b50480d9762fdb75339cac0": {
     "model_module": "@jupyter-widgets/base",
     "model_module_version": "1.2.0",
     "model_name": "LayoutModel",
     "state": {
      "_model_module": "@jupyter-widgets/base",
      "_model_module_version": "1.2.0",
      "_model_name": "LayoutModel",
      "_view_count": null,
      "_view_module": "@jupyter-widgets/base",
      "_view_module_version": "1.2.0",
      "_view_name": "LayoutView",
      "align_content": null,
      "align_items": null,
      "align_self": null,
      "border": null,
      "bottom": null,
      "display": null,
      "flex": null,
      "flex_flow": null,
      "grid_area": null,
      "grid_auto_columns": null,
      "grid_auto_flow": null,
      "grid_auto_rows": null,
      "grid_column": null,
      "grid_gap": null,
      "grid_row": null,
      "grid_template_areas": null,
      "grid_template_columns": null,
      "grid_template_rows": null,
      "height": null,
      "justify_content": null,
      "justify_items": null,
      "left": null,
      "margin": null,
      "max_height": null,
      "max_width": null,
      "min_height": null,
      "min_width": null,
      "object_fit": null,
      "object_position": null,
      "order": null,
      "overflow": null,
      "overflow_x": null,
      "overflow_y": null,
      "padding": null,
      "right": null,
      "top": null,
      "visibility": null,
      "width": null
     }
    },
    "9016dea4a36a40ddaf2a2b5923695810": {
     "model_module": "@jupyter-widgets/controls",
     "model_module_version": "1.5.0",
     "model_name": "DescriptionStyleModel",
     "state": {
      "_model_module": "@jupyter-widgets/controls",
      "_model_module_version": "1.5.0",
      "_model_name": "DescriptionStyleModel",
      "_view_count": null,
      "_view_module": "@jupyter-widgets/base",
      "_view_module_version": "1.2.0",
      "_view_name": "StyleView",
      "description_width": ""
     }
    },
    "904b6e37b2d948a19aa0165c6ddc698f": {
     "model_module": "@jupyter-widgets/base",
     "model_module_version": "1.2.0",
     "model_name": "LayoutModel",
     "state": {
      "_model_module": "@jupyter-widgets/base",
      "_model_module_version": "1.2.0",
      "_model_name": "LayoutModel",
      "_view_count": null,
      "_view_module": "@jupyter-widgets/base",
      "_view_module_version": "1.2.0",
      "_view_name": "LayoutView",
      "align_content": null,
      "align_items": null,
      "align_self": null,
      "border": null,
      "bottom": null,
      "display": null,
      "flex": null,
      "flex_flow": null,
      "grid_area": null,
      "grid_auto_columns": null,
      "grid_auto_flow": null,
      "grid_auto_rows": null,
      "grid_column": null,
      "grid_gap": null,
      "grid_row": null,
      "grid_template_areas": null,
      "grid_template_columns": null,
      "grid_template_rows": null,
      "height": null,
      "justify_content": null,
      "justify_items": null,
      "left": null,
      "margin": null,
      "max_height": null,
      "max_width": null,
      "min_height": null,
      "min_width": null,
      "object_fit": null,
      "object_position": null,
      "order": null,
      "overflow": null,
      "overflow_x": null,
      "overflow_y": null,
      "padding": null,
      "right": null,
      "top": null,
      "visibility": null,
      "width": null
     }
    },
    "97fa0f61004c42cbbd30a852decb7d09": {
     "model_module": "@jupyter-widgets/controls",
     "model_module_version": "1.5.0",
     "model_name": "LabelModel",
     "state": {
      "_dom_classes": [],
      "_model_module": "@jupyter-widgets/controls",
      "_model_module_version": "1.5.0",
      "_model_name": "LabelModel",
      "_view_count": null,
      "_view_module": "@jupyter-widgets/controls",
      "_view_module_version": "1.5.0",
      "_view_name": "LabelView",
      "description": "",
      "description_tooltip": null,
      "layout": "IPY_MODEL_b396f352f422405e97cc9ae019b8dad8",
      "placeholder": "​",
      "style": "IPY_MODEL_cbcd82ad00e94989b5397841052ddc83",
      "value": "14.Terminal_Tower (prob: 0.64)"
     }
    },
    "af4271b2dedd42eda777d86cb5b22316": {
     "model_module": "@jupyter-widgets/base",
     "model_module_version": "1.2.0",
     "model_name": "LayoutModel",
     "state": {
      "_model_module": "@jupyter-widgets/base",
      "_model_module_version": "1.2.0",
      "_model_name": "LayoutModel",
      "_view_count": null,
      "_view_module": "@jupyter-widgets/base",
      "_view_module_version": "1.2.0",
      "_view_name": "LayoutView",
      "align_content": null,
      "align_items": null,
      "align_self": null,
      "border": null,
      "bottom": null,
      "display": null,
      "flex": null,
      "flex_flow": null,
      "grid_area": null,
      "grid_auto_columns": null,
      "grid_auto_flow": null,
      "grid_auto_rows": null,
      "grid_column": null,
      "grid_gap": null,
      "grid_row": null,
      "grid_template_areas": null,
      "grid_template_columns": null,
      "grid_template_rows": null,
      "height": null,
      "justify_content": null,
      "justify_items": null,
      "left": null,
      "margin": null,
      "max_height": null,
      "max_width": null,
      "min_height": null,
      "min_width": null,
      "object_fit": null,
      "object_position": null,
      "order": null,
      "overflow": null,
      "overflow_x": null,
      "overflow_y": null,
      "padding": null,
      "right": null,
      "top": null,
      "visibility": null,
      "width": null
     }
    },
    "b396f352f422405e97cc9ae019b8dad8": {
     "model_module": "@jupyter-widgets/base",
     "model_module_version": "1.2.0",
     "model_name": "LayoutModel",
     "state": {
      "_model_module": "@jupyter-widgets/base",
      "_model_module_version": "1.2.0",
      "_model_name": "LayoutModel",
      "_view_count": null,
      "_view_module": "@jupyter-widgets/base",
      "_view_module_version": "1.2.0",
      "_view_name": "LayoutView",
      "align_content": null,
      "align_items": null,
      "align_self": null,
      "border": null,
      "bottom": null,
      "display": null,
      "flex": null,
      "flex_flow": null,
      "grid_area": null,
      "grid_auto_columns": null,
      "grid_auto_flow": null,
      "grid_auto_rows": null,
      "grid_column": null,
      "grid_gap": null,
      "grid_row": null,
      "grid_template_areas": null,
      "grid_template_columns": null,
      "grid_template_rows": null,
      "height": null,
      "justify_content": null,
      "justify_items": null,
      "left": null,
      "margin": null,
      "max_height": null,
      "max_width": null,
      "min_height": null,
      "min_width": null,
      "object_fit": null,
      "object_position": null,
      "order": null,
      "overflow": null,
      "overflow_x": null,
      "overflow_y": null,
      "padding": null,
      "right": null,
      "top": null,
      "visibility": null,
      "width": null
     }
    },
    "bea589e5c84d4797a19c3877c061c326": {
     "model_module": "@jupyter-widgets/controls",
     "model_module_version": "1.5.0",
     "model_name": "DescriptionStyleModel",
     "state": {
      "_model_module": "@jupyter-widgets/controls",
      "_model_module_version": "1.5.0",
      "_model_name": "DescriptionStyleModel",
      "_view_count": null,
      "_view_module": "@jupyter-widgets/base",
      "_view_module_version": "1.2.0",
      "_view_name": "StyleView",
      "description_width": ""
     }
    },
    "cbcd82ad00e94989b5397841052ddc83": {
     "model_module": "@jupyter-widgets/controls",
     "model_module_version": "1.5.0",
     "model_name": "DescriptionStyleModel",
     "state": {
      "_model_module": "@jupyter-widgets/controls",
      "_model_module_version": "1.5.0",
      "_model_name": "DescriptionStyleModel",
      "_view_count": null,
      "_view_module": "@jupyter-widgets/base",
      "_view_module_version": "1.2.0",
      "_view_name": "StyleView",
      "description_width": ""
     }
    },
    "dc83708ef20d47b7979212baac066543": {
     "model_module": "@jupyter-widgets/base",
     "model_module_version": "1.2.0",
     "model_name": "LayoutModel",
     "state": {
      "_model_module": "@jupyter-widgets/base",
      "_model_module_version": "1.2.0",
      "_model_name": "LayoutModel",
      "_view_count": null,
      "_view_module": "@jupyter-widgets/base",
      "_view_module_version": "1.2.0",
      "_view_name": "LayoutView",
      "align_content": null,
      "align_items": null,
      "align_self": null,
      "border": null,
      "bottom": null,
      "display": null,
      "flex": null,
      "flex_flow": null,
      "grid_area": null,
      "grid_auto_columns": null,
      "grid_auto_flow": null,
      "grid_auto_rows": null,
      "grid_column": null,
      "grid_gap": null,
      "grid_row": null,
      "grid_template_areas": null,
      "grid_template_columns": null,
      "grid_template_rows": null,
      "height": null,
      "justify_content": null,
      "justify_items": null,
      "left": null,
      "margin": null,
      "max_height": null,
      "max_width": null,
      "min_height": null,
      "min_width": null,
      "object_fit": null,
      "object_position": null,
      "order": null,
      "overflow": null,
      "overflow_x": null,
      "overflow_y": null,
      "padding": null,
      "right": null,
      "top": null,
      "visibility": null,
      "width": null
     }
    },
    "eb5a1cac1fa34f5b84a864c0d1222d8c": {
     "model_module": "@jupyter-widgets/controls",
     "model_module_version": "1.5.0",
     "model_name": "ButtonStyleModel",
     "state": {
      "_model_module": "@jupyter-widgets/controls",
      "_model_module_version": "1.5.0",
      "_model_name": "ButtonStyleModel",
      "_view_count": null,
      "_view_module": "@jupyter-widgets/base",
      "_view_module_version": "1.2.0",
      "_view_name": "StyleView",
      "button_color": null,
      "font_weight": ""
     }
    },
    "f04575c145054b60b22b5376dbfe5319": {
     "model_module": "@jupyter-widgets/controls",
     "model_module_version": "1.5.0",
     "model_name": "DescriptionStyleModel",
     "state": {
      "_model_module": "@jupyter-widgets/controls",
      "_model_module_version": "1.5.0",
      "_model_name": "DescriptionStyleModel",
      "_view_count": null,
      "_view_module": "@jupyter-widgets/base",
      "_view_module_version": "1.2.0",
      "_view_name": "StyleView",
      "description_width": ""
     }
    },
    "f0be1320dde649a5b84ed2c037c91d79": {
     "model_module": "@jupyter-widgets/controls",
     "model_module_version": "1.5.0",
     "model_name": "DescriptionStyleModel",
     "state": {
      "_model_module": "@jupyter-widgets/controls",
      "_model_module_version": "1.5.0",
      "_model_name": "DescriptionStyleModel",
      "_view_count": null,
      "_view_module": "@jupyter-widgets/base",
      "_view_module_version": "1.2.0",
      "_view_name": "StyleView",
      "description_width": ""
     }
    },
    "fde5341cba484f28974c1f0550c66322": {
     "model_module": "@jupyter-widgets/controls",
     "model_module_version": "1.5.0",
     "model_name": "ButtonModel",
     "state": {
      "_dom_classes": [],
      "_model_module": "@jupyter-widgets/controls",
      "_model_module_version": "1.5.0",
      "_model_name": "ButtonModel",
      "_view_count": null,
      "_view_module": "@jupyter-widgets/controls",
      "_view_module_version": "1.5.0",
      "_view_name": "ButtonView",
      "button_style": "",
      "description": "Classify",
      "disabled": false,
      "icon": "",
      "layout": "IPY_MODEL_61cd10b80a5d4b1cb5c31ddd1615f844",
      "style": "IPY_MODEL_eb5a1cac1fa34f5b84a864c0d1222d8c",
      "tooltip": ""
     }
    }
   }
  }
 },
 "nbformat": 4,
 "nbformat_minor": 5
}
